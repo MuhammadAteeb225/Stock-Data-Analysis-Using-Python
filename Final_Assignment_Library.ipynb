{
  "nbformat": 4,
  "nbformat_minor": 0,
  "metadata": {
    "kernelspec": {
      "display_name": "Python",
      "language": "python",
      "name": "conda-env-python-py"
    },
    "language_info": {
      "codemirror_mode": {
        "name": "ipython",
        "version": 3
      },
      "file_extension": ".py",
      "mimetype": "text/x-python",
      "name": "python",
      "nbconvert_exporter": "python",
      "pygments_lexer": "ipython3",
      "version": "3.6.12"
    },
    "colab": {
      "name": "Final_Assignment_Library.ipynb",
      "provenance": [],
      "include_colab_link": true
    }
  },
  "cells": [
    {
      "cell_type": "markdown",
      "metadata": {
        "id": "view-in-github",
        "colab_type": "text"
      },
      "source": [
        "<a href=\"https://colab.research.google.com/github/MuhammadAteeb225/Stock-Data-Analysis-Using-Python/blob/main/Final_Assignment_Library.ipynb\" target=\"_parent\"><img src=\"https://colab.research.google.com/assets/colab-badge.svg\" alt=\"Open In Colab\"/></a>"
      ]
    },
    {
      "cell_type": "markdown",
      "metadata": {
        "id": "eDpzO3Zm76iz"
      },
      "source": [
        "<center>\n",
        "    <img src=\"https://s3-api.us-geo.objectstorage.softlayer.net/cf-courses-data/CognitiveClass/Logos/organization_logo/organization_logo.png\" width=\"300\" alt=\"cognitiveclass.ai logo\"  />\n",
        "</center>\n"
      ]
    },
    {
      "cell_type": "markdown",
      "metadata": {
        "id": "46nhB-Cs76i4"
      },
      "source": [
        "<h1>Extracting Stock Data Using a Python Library</h1>\n"
      ]
    },
    {
      "cell_type": "markdown",
      "metadata": {
        "id": "mdn4Liyv76i5"
      },
      "source": [
        "A company's stock share is a piece of the company more precisely:\n",
        "\n",
        "<p><b>A stock (also known as equity) is a security that represents the ownership of a fraction of a corporation. This\n",
        "entitles the owner of the stock to a proportion of the corporation's assets and profits equal to how much stock they own. Units of stock are called \"shares.\" [1]</p></b>\n",
        "\n",
        "An investor can buy a stock and sell it later. If the stock price increases, the investor profits, If it decreases,the investor with incur a loss.  Determining the stock price is complex; it depends on the number of outstanding shares, the size of the company's future profits, and much more. People trade stocks throughout the day the stock ticker is a report of the price of a certain stock, updated continuously throughout the trading session by the various stock market exchanges. \n",
        "\n",
        "<p>You are a data scientist working for a hedge fund; it's your job to determine any suspicious stock activity. In this lab you will extract stock data using a Python library. We will use the <coode>yfinance</code> library, it allows us to extract data for stocks returning data in a pandas dataframe. You will use the lab to extract.</p>\n"
      ]
    },
    {
      "cell_type": "markdown",
      "metadata": {
        "id": "kOB12SO476i6"
      },
      "source": [
        "<h2>Table of Contents</h2>\n",
        "<div class=\"alert alert-block alert-info\" style=\"margin-top: 20px\">\n",
        "    <ul>\n",
        "        <li>Using yfinance to Extract Stock Info</li>\n",
        "        <li>Using yfinance to Extract Historical Share Price Data</li>\n",
        "        <li>Using yfinance to Extract Historical Dividends Data</li>\n",
        "        <li>Exercise</li>\n",
        "    </ul>\n",
        "<p>\n",
        "    Estimated Time Needed: <strong>30 min</strong></p>\n",
        "</div>\n",
        "\n",
        "<hr>\n"
      ]
    },
    {
      "cell_type": "code",
      "metadata": {
        "id": "JUuI1Y7176i6",
        "outputId": "caaab6d9-14dc-4b7a-c825-ab9b24225db8",
        "colab": {
          "base_uri": "https://localhost:8080/"
        }
      },
      "source": [
        "!pip install yfinance\n",
        "#!pip install pandas"
      ],
      "execution_count": 1,
      "outputs": [
        {
          "output_type": "stream",
          "text": [
            "Collecting yfinance\n",
            "  Downloading https://files.pythonhosted.org/packages/7a/e8/b9d7104d3a4bf39924799067592d9e59119fcfc900a425a12e80a3123ec8/yfinance-0.1.55.tar.gz\n",
            "Requirement already satisfied: pandas>=0.24 in /usr/local/lib/python3.7/dist-packages (from yfinance) (1.1.5)\n",
            "Requirement already satisfied: numpy>=1.15 in /usr/local/lib/python3.7/dist-packages (from yfinance) (1.19.5)\n",
            "Requirement already satisfied: requests>=2.20 in /usr/local/lib/python3.7/dist-packages (from yfinance) (2.23.0)\n",
            "Requirement already satisfied: multitasking>=0.0.7 in /usr/local/lib/python3.7/dist-packages (from yfinance) (0.0.9)\n",
            "Collecting lxml>=4.5.1\n",
            "\u001b[?25l  Downloading https://files.pythonhosted.org/packages/d2/88/b25778f17e5320c1c58f8c5060fb5b037288e162bd7554c30799e9ea90db/lxml-4.6.2-cp37-cp37m-manylinux1_x86_64.whl (5.5MB)\n",
            "\u001b[K     |████████████████████████████████| 5.5MB 6.4MB/s \n",
            "\u001b[?25hRequirement already satisfied: python-dateutil>=2.7.3 in /usr/local/lib/python3.7/dist-packages (from pandas>=0.24->yfinance) (2.8.1)\n",
            "Requirement already satisfied: pytz>=2017.2 in /usr/local/lib/python3.7/dist-packages (from pandas>=0.24->yfinance) (2018.9)\n",
            "Requirement already satisfied: idna<3,>=2.5 in /usr/local/lib/python3.7/dist-packages (from requests>=2.20->yfinance) (2.10)\n",
            "Requirement already satisfied: urllib3!=1.25.0,!=1.25.1,<1.26,>=1.21.1 in /usr/local/lib/python3.7/dist-packages (from requests>=2.20->yfinance) (1.24.3)\n",
            "Requirement already satisfied: chardet<4,>=3.0.2 in /usr/local/lib/python3.7/dist-packages (from requests>=2.20->yfinance) (3.0.4)\n",
            "Requirement already satisfied: certifi>=2017.4.17 in /usr/local/lib/python3.7/dist-packages (from requests>=2.20->yfinance) (2020.12.5)\n",
            "Requirement already satisfied: six>=1.5 in /usr/local/lib/python3.7/dist-packages (from python-dateutil>=2.7.3->pandas>=0.24->yfinance) (1.15.0)\n",
            "Building wheels for collected packages: yfinance\n",
            "  Building wheel for yfinance (setup.py) ... \u001b[?25l\u001b[?25hdone\n",
            "  Created wheel for yfinance: filename=yfinance-0.1.55-py2.py3-none-any.whl size=22616 sha256=b15733dc7450e2cd52ad55da36ec1c7c197879338e70967afefc0f68d5467a21\n",
            "  Stored in directory: /root/.cache/pip/wheels/04/98/cc/2702a4242d60bdc14f48b4557c427ded1fe92aedf257d4565c\n",
            "Successfully built yfinance\n",
            "Installing collected packages: lxml, yfinance\n",
            "  Found existing installation: lxml 4.2.6\n",
            "    Uninstalling lxml-4.2.6:\n",
            "      Successfully uninstalled lxml-4.2.6\n",
            "Successfully installed lxml-4.6.2 yfinance-0.1.55\n"
          ],
          "name": "stdout"
        }
      ]
    },
    {
      "cell_type": "code",
      "metadata": {
        "id": "9yDNw2-976i7"
      },
      "source": [
        "import yfinance as yf\n",
        "import pandas as pd"
      ],
      "execution_count": 2,
      "outputs": []
    },
    {
      "cell_type": "markdown",
      "metadata": {
        "id": "_wqrZQC876i8"
      },
      "source": [
        "## Using the yfinance Library to Extract Stock Data\n"
      ]
    },
    {
      "cell_type": "markdown",
      "metadata": {
        "id": "4H7yb6MG76i8"
      },
      "source": [
        "Using the `Ticker` module we can create an object that will allow us to access functions to extract data. To do this we need to provide the ticker symbol for the stock, here the company is Apple and the ticker symbol is `AAPL`.\n"
      ]
    },
    {
      "cell_type": "code",
      "metadata": {
        "id": "mKFS4Hq176i8"
      },
      "source": [
        "apple = yf.Ticker(\"AAPL\")"
      ],
      "execution_count": 3,
      "outputs": []
    },
    {
      "cell_type": "markdown",
      "metadata": {
        "id": "e5dkjNmv76i9"
      },
      "source": [
        "Now we can access functions and variables to extract the type of data we need. You can view them and what they represent here [https://aroussi.com/post/python-yahoo-finance](https://aroussi.com/post/python-yahoo-finance?cm_mmc=Email_Newsletter-_-Developer_Ed%2BTech-_-WW_WW-_-SkillsNetwork-Courses-IBMDeveloperSkillsNetwork-PY0220EN-SkillsNetwork-23455606&cm_mmca1=000026UJ&cm_mmca2=10006555&cm_mmca3=M12345678&cvosrc=email.Newsletter.M12345678&cvo_campaign=000026UJ&cm_mmc=Email_Newsletter-_-Developer_Ed%2BTech-_-WW_WW-_-SkillsNetwork-Courses-IBMDeveloperSkillsNetwork-PY0220EN-SkillsNetwork-23455606&cm_mmca1=000026UJ&cm_mmca2=10006555&cm_mmca3=M12345678&cvosrc=email.Newsletter.M12345678&cvo_campaign=000026UJ).\n"
      ]
    },
    {
      "cell_type": "markdown",
      "metadata": {
        "id": "yREmgdJ076i9"
      },
      "source": [
        "### Stock Info\n"
      ]
    },
    {
      "cell_type": "markdown",
      "metadata": {
        "id": "Ax_L0tFK76i9"
      },
      "source": [
        "Using the attribute  <code>info</code> we can extract information about the stock as a Python dictionary.\n"
      ]
    },
    {
      "cell_type": "code",
      "metadata": {
        "id": "gr8vF8zE76i-",
        "outputId": "9e7a9583-9ff2-406f-c7cf-62748891c075",
        "colab": {
          "base_uri": "https://localhost:8080/"
        }
      },
      "source": [
        "apple_info=apple.info\n",
        "apple_info"
      ],
      "execution_count": 4,
      "outputs": [
        {
          "output_type": "execute_result",
          "data": {
            "text/plain": [
              "{'52WeekChange': 0.9987614,\n",
              " 'SandP52WeekChange': 0.652609,\n",
              " 'address1': 'One Apple Park Way',\n",
              " 'algorithm': None,\n",
              " 'annualHoldingsTurnover': None,\n",
              " 'annualReportExpenseRatio': None,\n",
              " 'ask': 121.08,\n",
              " 'askSize': 3200,\n",
              " 'averageDailyVolume10Day': 130917328,\n",
              " 'averageVolume': 111752167,\n",
              " 'averageVolume10days': 130917328,\n",
              " 'beta': 1.251354,\n",
              " 'beta3Year': None,\n",
              " 'bid': 121.06,\n",
              " 'bidSize': 1100,\n",
              " 'bookValue': 3.936,\n",
              " 'category': None,\n",
              " 'circulatingSupply': None,\n",
              " 'city': 'Cupertino',\n",
              " 'companyOfficers': [],\n",
              " 'country': 'United States',\n",
              " 'currency': 'USD',\n",
              " 'dateShortInterest': 1614297600,\n",
              " 'dayHigh': 121.1699,\n",
              " 'dayLow': 119.16,\n",
              " 'dividendRate': 0.82,\n",
              " 'dividendYield': 0.0068,\n",
              " 'earningsQuarterlyGrowth': 0.293,\n",
              " 'enterpriseToEbitda': 24.273,\n",
              " 'enterpriseToRevenue': 7.028,\n",
              " 'enterpriseValue': 2067080282112,\n",
              " 'exDividendDate': 1612483200,\n",
              " 'exchange': 'NMS',\n",
              " 'exchangeTimezoneName': 'America/New_York',\n",
              " 'exchangeTimezoneShortName': 'EDT',\n",
              " 'expireDate': None,\n",
              " 'fiftyDayAverage': 129.80089,\n",
              " 'fiftyTwoWeekHigh': 145.09,\n",
              " 'fiftyTwoWeekLow': 53.1525,\n",
              " 'fiveYearAverageReturn': None,\n",
              " 'fiveYearAvgDividendYield': 1.42,\n",
              " 'floatShares': 16770804261,\n",
              " 'forwardEps': 4.68,\n",
              " 'forwardPE': 25.861113,\n",
              " 'fromCurrency': None,\n",
              " 'fullTimeEmployees': 147000,\n",
              " 'fundFamily': None,\n",
              " 'fundInceptionDate': None,\n",
              " 'gmtOffSetMilliseconds': '-14400000',\n",
              " 'heldPercentInsiders': 0.00065,\n",
              " 'heldPercentInstitutions': 0.59661996,\n",
              " 'impliedSharesOutstanding': None,\n",
              " 'industry': 'Consumer Electronics',\n",
              " 'isEsgPopulated': False,\n",
              " 'lastCapGain': None,\n",
              " 'lastDividendDate': 1612483200,\n",
              " 'lastDividendValue': 0.205,\n",
              " 'lastFiscalYearEnd': 1601078400,\n",
              " 'lastMarket': None,\n",
              " 'lastSplitDate': 1598832000,\n",
              " 'lastSplitFactor': '4:1',\n",
              " 'legalType': None,\n",
              " 'logo_url': 'https://logo.clearbit.com/apple.com',\n",
              " 'longBusinessSummary': 'Apple Inc. designs, manufactures, and markets smartphones, personal computers, tablets, wearables, and accessories worldwide. It also sells various related services. The company offers iPhone, a line of smartphones; Mac, a line of personal computers; iPad, a line of multi-purpose tablets; and wearables, home, and accessories comprising AirPods, Apple TV, Apple Watch, Beats products, HomePod, iPod touch, and other Apple-branded and third-party accessories. It also provides AppleCare support services; cloud services store services; and operates various platforms, including the App Store, that allow customers to discover and download applications and digital content, such as books, music, video, games, and podcasts. In addition, the company offers various services, such as Apple Arcade, a game subscription service; Apple Music, which offers users a curated listening experience with on-demand radio stations; Apple News+, a subscription news and magazine service; Apple TV+, which offers exclusive original content; Apple Card, a co-branded credit card; and Apple Pay, a cashless payment service, as well as licenses its intellectual property. The company serves consumers, and small and mid-sized businesses; and the education, enterprise, and government markets. It sells and delivers third-party applications for its products through the App Store. The company also sells its products through its retail and online stores, and direct sales force; and third-party cellular network carriers, wholesalers, retailers, and resellers. Apple Inc. was founded in 1977 and is headquartered in Cupertino, California.',\n",
              " 'longName': 'Apple Inc.',\n",
              " 'market': 'us_market',\n",
              " 'marketCap': 2031863726080,\n",
              " 'maxAge': 1,\n",
              " 'maxSupply': None,\n",
              " 'messageBoardId': 'finmb_24937',\n",
              " 'morningStarOverallRating': None,\n",
              " 'morningStarRiskRating': None,\n",
              " 'mostRecentQuarter': 1608940800,\n",
              " 'navPrice': None,\n",
              " 'netIncomeToCommon': 63929999360,\n",
              " 'nextFiscalYearEnd': 1664150400,\n",
              " 'open': 120.4,\n",
              " 'openInterest': None,\n",
              " 'payoutRatio': 0.2177,\n",
              " 'pegRatio': 2.02,\n",
              " 'phone': '408-996-1010',\n",
              " 'previousClose': 121.96,\n",
              " 'priceHint': 2,\n",
              " 'priceToBook': 30.74949,\n",
              " 'priceToSalesTrailing12Months': 6.907929,\n",
              " 'profitMargins': 0.21735,\n",
              " 'quoteType': 'EQUITY',\n",
              " 'regularMarketDayHigh': 121.1699,\n",
              " 'regularMarketDayLow': 119.16,\n",
              " 'regularMarketOpen': 120.4,\n",
              " 'regularMarketPreviousClose': 121.96,\n",
              " 'regularMarketPrice': 120.4,\n",
              " 'regularMarketVolume': 88105050,\n",
              " 'revenueQuarterlyGrowth': None,\n",
              " 'sector': 'Technology',\n",
              " 'sharesOutstanding': 16788100096,\n",
              " 'sharesPercentSharesOut': 0.006,\n",
              " 'sharesShort': 100799312,\n",
              " 'sharesShortPreviousMonthDate': 1611878400,\n",
              " 'sharesShortPriorMonth': 91862600,\n",
              " 'shortName': 'Apple Inc.',\n",
              " 'shortPercentOfFloat': 0.006,\n",
              " 'shortRatio': 0.97,\n",
              " 'startDate': None,\n",
              " 'state': 'CA',\n",
              " 'strikePrice': None,\n",
              " 'symbol': 'AAPL',\n",
              " 'threeYearAverageReturn': None,\n",
              " 'toCurrency': None,\n",
              " 'totalAssets': None,\n",
              " 'tradeable': False,\n",
              " 'trailingAnnualDividendRate': 0.807,\n",
              " 'trailingAnnualDividendYield': 0.0066169235,\n",
              " 'trailingEps': 3.687,\n",
              " 'trailingPE': 32.826145,\n",
              " 'twoHundredDayAverage': 123.100365,\n",
              " 'volume': 88105050,\n",
              " 'volume24Hr': None,\n",
              " 'volumeAllCurrencies': None,\n",
              " 'website': 'http://www.apple.com',\n",
              " 'yield': None,\n",
              " 'ytdReturn': None,\n",
              " 'zip': '95014'}"
            ]
          },
          "metadata": {
            "tags": []
          },
          "execution_count": 4
        }
      ]
    },
    {
      "cell_type": "markdown",
      "metadata": {
        "id": "WJ8tRA4P76i-"
      },
      "source": [
        "We can get the <code>'country'</code> using the key country\n"
      ]
    },
    {
      "cell_type": "code",
      "metadata": {
        "id": "EaWRi3GE76i-",
        "outputId": "00498ab0-bf3d-4c24-8a0e-1ee209b7ef6e",
        "colab": {
          "base_uri": "https://localhost:8080/",
          "height": 35
        }
      },
      "source": [
        "apple_info['country']"
      ],
      "execution_count": 5,
      "outputs": [
        {
          "output_type": "execute_result",
          "data": {
            "application/vnd.google.colaboratory.intrinsic+json": {
              "type": "string"
            },
            "text/plain": [
              "'United States'"
            ]
          },
          "metadata": {
            "tags": []
          },
          "execution_count": 5
        }
      ]
    },
    {
      "cell_type": "markdown",
      "metadata": {
        "id": "Kj0CuKrp76i-"
      },
      "source": [
        "### Extracting Share Price\n"
      ]
    },
    {
      "cell_type": "markdown",
      "metadata": {
        "id": "PijWzLdc76i_"
      },
      "source": [
        "A share is the single smallest part of a company's stock  that you can buy, the prices of these shares fluctuate over time. Using the <code>history()</code> method we can get the share price of the stock over a certain period of time. Using the `period` parameter we can set how far back from the present to get data. The options for `period` are 1 day (1d), 5d, 1 month (1mo) , 3mo, 6mo, 1 year (1y), 2y, 5y, 10y, ytd, and max.\n"
      ]
    },
    {
      "cell_type": "code",
      "metadata": {
        "id": "pszbYjqo76i_"
      },
      "source": [
        "apple_share_price_data = apple.history(period=\"max\")"
      ],
      "execution_count": 6,
      "outputs": []
    },
    {
      "cell_type": "markdown",
      "metadata": {
        "id": "ylheZVs376i_"
      },
      "source": [
        "The format that the data is returned in is a Pandas DataFrame. With the `Date` as the index the share `Open`, `High`, `Low`, `Close`, `Volume`, and `Stock Splits` are given for each day.\n"
      ]
    },
    {
      "cell_type": "code",
      "metadata": {
        "id": "qKiBM-af76i_",
        "outputId": "fe623316-4b83-4aa4-91af-6ae45ffabca9",
        "colab": {
          "base_uri": "https://localhost:8080/",
          "height": 235
        }
      },
      "source": [
        "apple_share_price_data.head()"
      ],
      "execution_count": 7,
      "outputs": [
        {
          "output_type": "execute_result",
          "data": {
            "text/html": [
              "<div>\n",
              "<style scoped>\n",
              "    .dataframe tbody tr th:only-of-type {\n",
              "        vertical-align: middle;\n",
              "    }\n",
              "\n",
              "    .dataframe tbody tr th {\n",
              "        vertical-align: top;\n",
              "    }\n",
              "\n",
              "    .dataframe thead th {\n",
              "        text-align: right;\n",
              "    }\n",
              "</style>\n",
              "<table border=\"1\" class=\"dataframe\">\n",
              "  <thead>\n",
              "    <tr style=\"text-align: right;\">\n",
              "      <th></th>\n",
              "      <th>Open</th>\n",
              "      <th>High</th>\n",
              "      <th>Low</th>\n",
              "      <th>Close</th>\n",
              "      <th>Volume</th>\n",
              "      <th>Dividends</th>\n",
              "      <th>Stock Splits</th>\n",
              "    </tr>\n",
              "    <tr>\n",
              "      <th>Date</th>\n",
              "      <th></th>\n",
              "      <th></th>\n",
              "      <th></th>\n",
              "      <th></th>\n",
              "      <th></th>\n",
              "      <th></th>\n",
              "      <th></th>\n",
              "    </tr>\n",
              "  </thead>\n",
              "  <tbody>\n",
              "    <tr>\n",
              "      <th>1980-12-12</th>\n",
              "      <td>0.100922</td>\n",
              "      <td>0.101361</td>\n",
              "      <td>0.100922</td>\n",
              "      <td>0.100922</td>\n",
              "      <td>469033600</td>\n",
              "      <td>0.0</td>\n",
              "      <td>0.0</td>\n",
              "    </tr>\n",
              "    <tr>\n",
              "      <th>1980-12-15</th>\n",
              "      <td>0.096096</td>\n",
              "      <td>0.096096</td>\n",
              "      <td>0.095657</td>\n",
              "      <td>0.095657</td>\n",
              "      <td>175884800</td>\n",
              "      <td>0.0</td>\n",
              "      <td>0.0</td>\n",
              "    </tr>\n",
              "    <tr>\n",
              "      <th>1980-12-16</th>\n",
              "      <td>0.089075</td>\n",
              "      <td>0.089075</td>\n",
              "      <td>0.088636</td>\n",
              "      <td>0.088636</td>\n",
              "      <td>105728000</td>\n",
              "      <td>0.0</td>\n",
              "      <td>0.0</td>\n",
              "    </tr>\n",
              "    <tr>\n",
              "      <th>1980-12-17</th>\n",
              "      <td>0.090830</td>\n",
              "      <td>0.091268</td>\n",
              "      <td>0.090830</td>\n",
              "      <td>0.090830</td>\n",
              "      <td>86441600</td>\n",
              "      <td>0.0</td>\n",
              "      <td>0.0</td>\n",
              "    </tr>\n",
              "    <tr>\n",
              "      <th>1980-12-18</th>\n",
              "      <td>0.093463</td>\n",
              "      <td>0.093902</td>\n",
              "      <td>0.093463</td>\n",
              "      <td>0.093463</td>\n",
              "      <td>73449600</td>\n",
              "      <td>0.0</td>\n",
              "      <td>0.0</td>\n",
              "    </tr>\n",
              "  </tbody>\n",
              "</table>\n",
              "</div>"
            ],
            "text/plain": [
              "                Open      High       Low  ...     Volume  Dividends  Stock Splits\n",
              "Date                                      ...                                    \n",
              "1980-12-12  0.100922  0.101361  0.100922  ...  469033600        0.0           0.0\n",
              "1980-12-15  0.096096  0.096096  0.095657  ...  175884800        0.0           0.0\n",
              "1980-12-16  0.089075  0.089075  0.088636  ...  105728000        0.0           0.0\n",
              "1980-12-17  0.090830  0.091268  0.090830  ...   86441600        0.0           0.0\n",
              "1980-12-18  0.093463  0.093902  0.093463  ...   73449600        0.0           0.0\n",
              "\n",
              "[5 rows x 7 columns]"
            ]
          },
          "metadata": {
            "tags": []
          },
          "execution_count": 7
        }
      ]
    },
    {
      "cell_type": "markdown",
      "metadata": {
        "id": "E2wrSLmt76jA"
      },
      "source": [
        "We can reset the index of the DataFrame with the `reset_index` function. We also set the `inplace` paramter to `True` so the change takes place to the DataFrame itself.\n"
      ]
    },
    {
      "cell_type": "code",
      "metadata": {
        "id": "hi7hUQC376jA"
      },
      "source": [
        "apple_share_price_data.reset_index(inplace=True)"
      ],
      "execution_count": 8,
      "outputs": []
    },
    {
      "cell_type": "markdown",
      "metadata": {
        "id": "3T9qa5fR76jA"
      },
      "source": [
        "We can plot the `Open` price against the `Date`:\n"
      ]
    },
    {
      "cell_type": "code",
      "metadata": {
        "id": "WVZSu4__76jA",
        "outputId": "652111ae-fe97-43d6-bda1-2b045402a42e",
        "colab": {
          "base_uri": "https://localhost:8080/",
          "height": 286
        }
      },
      "source": [
        "apple_share_price_data.plot(x=\"Date\", y=\"Open\")"
      ],
      "execution_count": 9,
      "outputs": [
        {
          "output_type": "execute_result",
          "data": {
            "text/plain": [
              "<matplotlib.axes._subplots.AxesSubplot at 0x7f4bf3c67090>"
            ]
          },
          "metadata": {
            "tags": []
          },
          "execution_count": 9
        },
        {
          "output_type": "display_data",
          "data": {
            "image/png": "[encoded data removed]",
            "text/plain": [
              "<Figure size 432x288 with 1 Axes>"
            ]
          },
          "metadata": {
            "tags": [],
            "needs_background": "light"
          }
        }
      ]
    },
    {
      "cell_type": "markdown",
      "metadata": {
        "id": "XaxUt8K276jB"
      },
      "source": [
        "### Extracting Dividends\n"
      ]
    },
    {
      "cell_type": "markdown",
      "metadata": {
        "id": "iMWesaRv76jB"
      },
      "source": [
        "Dividends are the distribution of a companys profits to shareholders. In this case they are defined as an amount of money returned per share an investor owns. Using the variable `dividends` we can get a dataframe of the data. The period of the data is given by the period defined in the 'history` function.\n"
      ]
    },
    {
      "cell_type": "code",
      "metadata": {
        "id": "KBK964RP76jB",
        "outputId": "45c9957f-004c-4706-9a13-2e5afc3f02ba",
        "colab": {
          "base_uri": "https://localhost:8080/"
        }
      },
      "source": [
        "apple.dividends"
      ],
      "execution_count": 10,
      "outputs": [
        {
          "output_type": "execute_result",
          "data": {
            "text/plain": [
              "Date\n",
              "1987-05-11    0.000536\n",
              "1987-08-10    0.000536\n",
              "1987-11-17    0.000714\n",
              "1988-02-12    0.000714\n",
              "1988-05-16    0.000714\n",
              "                ...   \n",
              "2020-02-07    0.192500\n",
              "2020-05-08    0.205000\n",
              "2020-08-07    0.205000\n",
              "2020-11-06    0.205000\n",
              "2021-02-05    0.205000\n",
              "Name: Dividends, Length: 70, dtype: float64"
            ]
          },
          "metadata": {
            "tags": []
          },
          "execution_count": 10
        }
      ]
    },
    {
      "cell_type": "markdown",
      "metadata": {
        "id": "pO0jz_Xf76jB"
      },
      "source": [
        "We can plot the dividends overtime:\n"
      ]
    },
    {
      "cell_type": "code",
      "metadata": {
        "id": "iff-relL76jC",
        "outputId": "f7fd0652-4b1f-49c9-819a-213a61e7679e",
        "colab": {
          "base_uri": "https://localhost:8080/",
          "height": 286
        }
      },
      "source": [
        "apple.dividends.plot()"
      ],
      "execution_count": 11,
      "outputs": [
        {
          "output_type": "execute_result",
          "data": {
            "text/plain": [
              "<matplotlib.axes._subplots.AxesSubplot at 0x7f4bd18e5050>"
            ]
          },
          "metadata": {
            "tags": []
          },
          "execution_count": 11
        },
        {
          "output_type": "display_data",
          "data": {
            "image/png": "[encoded data removed]",
            "text/plain": [
              "<Figure size 432x288 with 1 Axes>"
            ]
          },
          "metadata": {
            "tags": [],
            "needs_background": "light"
          }
        }
      ]
    },
    {
      "cell_type": "markdown",
      "metadata": {
        "id": "-hHOOtVQ76jC"
      },
      "source": [
        "## Exercise\n"
      ]
    },
    {
      "cell_type": "markdown",
      "metadata": {
        "id": "K_h8bsVq76jC"
      },
      "source": [
        "Now using the `Ticker` module create an object for AMD (Advanced Micro Devices) with the ticker symbol is `AMD` called; name the object <code>amd</code>.\n"
      ]
    },
    {
      "cell_type": "code",
      "metadata": {
        "id": "J_gDLjlg76jC"
      },
      "source": [
        "amd = yf.Ticker('AMD')"
      ],
      "execution_count": 12,
      "outputs": []
    },
    {
      "cell_type": "markdown",
      "metadata": {
        "id": "0nRbmoGv76jC"
      },
      "source": [
        "<b>Question 1</b> Use the key  <code>'country'</code> to find the country the stock belongs to, remember it as it will be a quiz question.\n"
      ]
    },
    {
      "cell_type": "code",
      "metadata": {
        "id": "vluP5vf176jD",
        "outputId": "142b4080-c8e3-4179-93f4-2e96330a4473",
        "colab": {
          "base_uri": "https://localhost:8080/",
          "height": 35
        }
      },
      "source": [
        "amd_info = amd.info\n",
        "amd_info['country']"
      ],
      "execution_count": 15,
      "outputs": [
        {
          "output_type": "execute_result",
          "data": {
            "application/vnd.google.colaboratory.intrinsic+json": {
              "type": "string"
            },
            "text/plain": [
              "'United States'"
            ]
          },
          "metadata": {
            "tags": []
          },
          "execution_count": 15
        }
      ]
    },
    {
      "cell_type": "markdown",
      "metadata": {
        "id": "8GRIL6Fa76jD"
      },
      "source": [
        "<b>Question 2</b> Use the key  <code>'sector'</code> to find the sector the stock belongs to, remember it as it will be a quiz question.\n"
      ]
    },
    {
      "cell_type": "code",
      "metadata": {
        "id": "MQLrfdsR76jD",
        "outputId": "b6ed0ca7-0e08-45f3-e77c-4e453cc7923f",
        "colab": {
          "base_uri": "https://localhost:8080/",
          "height": 35
        }
      },
      "source": [
        "amd_info['sector']"
      ],
      "execution_count": 16,
      "outputs": [
        {
          "output_type": "execute_result",
          "data": {
            "application/vnd.google.colaboratory.intrinsic+json": {
              "type": "string"
            },
            "text/plain": [
              "'Technology'"
            ]
          },
          "metadata": {
            "tags": []
          },
          "execution_count": 16
        }
      ]
    },
    {
      "cell_type": "markdown",
      "metadata": {
        "id": "UwRs5lBT76jE"
      },
      "source": [
        "<b>Question 3</b> Find the max of the <code>Volume</code> column of AMD using the `history` function, set the <code>period</code> to max.\n"
      ]
    },
    {
      "cell_type": "code",
      "metadata": {
        "id": "TQNZMtzO76jE",
        "outputId": "ccf53199-f189-4854-d53e-0f92366b1577",
        "colab": {
          "base_uri": "https://localhost:8080/"
        }
      },
      "source": [
        "amd_vol_max = amd.history(period='max')['Volume'].max()\n",
        "amd_vol_max"
      ],
      "execution_count": 18,
      "outputs": [
        {
          "output_type": "execute_result",
          "data": {
            "text/plain": [
              "325058400"
            ]
          },
          "metadata": {
            "tags": []
          },
          "execution_count": 18
        }
      ]
    },
    {
      "cell_type": "markdown",
      "metadata": {
        "id": "-wtRv_hj76jE"
      },
      "source": [
        "<h2>About the Authors:</h2> \n",
        "\n",
        "<a href=\"https://www.linkedin.com/in/joseph-s-50398b136/\">Joseph Santarcangelo</a> has a PhD in Electrical Engineering, his research focused on using machine learning, signal processing, and computer vision to determine how videos impact human cognition. Joseph has been working for IBM since he completed his PhD.\n",
        "\n",
        "Azim Hirjani\n"
      ]
    },
    {
      "cell_type": "markdown",
      "metadata": {
        "id": "PNSp1pTB76jE"
      },
      "source": [
        "## Change Log\n",
        "\n",
        "| Date (YYYY-MM-DD) | Version | Changed By    | Change Description        |\n",
        "| ----------------- | ------- | ------------- | ------------------------- |\n",
        "| 2020-11-10        | 1.1     | Malika Singla | Deleted the Optional part |\n",
        "| 2020-08-27        | 1.0     | Malika Singla | Added lab to GitLab       |\n",
        "\n",
        "<hr>\n",
        "\n",
        "## <h3 align=\"center\"> © IBM Corporation 2020. All rights reserved. <h3/>\n",
        "\n",
        "<p>\n"
      ]
    }
  ]
}